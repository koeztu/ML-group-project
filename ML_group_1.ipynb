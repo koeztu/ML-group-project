{
 "cells": [
  {
   "cell_type": "markdown",
   "id": "3c3e06e4",
   "metadata": {},
   "source": [
    "# ML GROUP PROJECT\n",
    "\n",
    "#### Group 1\n",
    "\n",
    "Alexander Beck<br>\n",
    "Joel Blank<br>\n",
    "Pascal Müntener<br>\n",
    "Arthur Pavlics<br>\n",
    "Kenan Öztürk"
   ]
  },
  {
   "cell_type": "code",
   "execution_count": 1,
   "id": "32092867",
   "metadata": {},
   "outputs": [
    {
     "name": "stderr",
     "output_type": "stream",
     "text": [
      "2023-03-29 14:54:20.553556: I tensorflow/core/platform/cpu_feature_guard.cc:193] This TensorFlow binary is optimized with oneAPI Deep Neural Network Library (oneDNN) to use the following CPU instructions in performance-critical operations:  AVX2 FMA\n",
      "To enable them in other operations, rebuild TensorFlow with the appropriate compiler flags.\n",
      "2023-03-29 14:54:20.635132: W tensorflow/compiler/xla/stream_executor/platform/default/dso_loader.cc:64] Could not load dynamic library 'libcudart.so.11.0'; dlerror: libcudart.so.11.0: cannot open shared object file: No such file or directory\n",
      "2023-03-29 14:54:20.635144: I tensorflow/compiler/xla/stream_executor/cuda/cudart_stub.cc:29] Ignore above cudart dlerror if you do not have a GPU set up on your machine.\n",
      "2023-03-29 14:54:21.054129: W tensorflow/compiler/xla/stream_executor/platform/default/dso_loader.cc:64] Could not load dynamic library 'libnvinfer.so.7'; dlerror: libnvinfer.so.7: cannot open shared object file: No such file or directory\n",
      "2023-03-29 14:54:21.054188: W tensorflow/compiler/xla/stream_executor/platform/default/dso_loader.cc:64] Could not load dynamic library 'libnvinfer_plugin.so.7'; dlerror: libnvinfer_plugin.so.7: cannot open shared object file: No such file or directory\n",
      "2023-03-29 14:54:21.054194: W tensorflow/compiler/tf2tensorrt/utils/py_utils.cc:38] TF-TRT Warning: Cannot dlopen some TensorRT libraries. If you would like to use Nvidia GPU with TensorRT, please make sure the missing libraries mentioned above are installed properly.\n"
     ]
    }
   ],
   "source": [
    "#IMPORTS\n",
    "import numpy as np\n",
    "import pandas as pd\n",
    "import matplotlib.pyplot as plt\n",
    "from imblearn.over_sampling import SMOTE\n",
    "from imblearn.under_sampling import TomekLinks\n",
    "from collections import Counter\n",
    "from sklearn.metrics import confusion_matrix\n",
    "\n",
    "\n",
    "#NEURAL NET\n",
    "from tensorflow import keras\n",
    "from tensorflow.keras import layers\n",
    "\n",
    "#DECISION TREES\n",
    "from sklearn.ensemble import RandomForestClassifier, AdaBoostClassifier, GradientBoostingClassifier\n",
    "from sklearn.tree import DecisionTreeClassifier\n",
    "from sklearn.model_selection import GridSearchCV\n",
    "from sklearn.pipeline import Pipeline\n",
    "from lightgbm import LGBMClassifier\n"
   ]
  },
  {
   "cell_type": "markdown",
   "id": "8203d83e",
   "metadata": {},
   "source": [
    "\n",
    "# Data Cleaning\n",
    "The Decision about which features we use is based on educated guesses about which features are predicitive of price and which ones are not. 'GrLivArea' will be much more prdictive of price than 'Heating', especially because 'Heating' is 'GasA' for almost all entries.<br><br>\n",
    "We considered correlations between the features. 'FireplaceQu' correlates heavily with 'Fireplaces', because when there are no Fireplaces, the Fireplace quality is NaN. We have a similar relationship between GarageSize and GarageCars.<br><br>\n",
    "The dataset's structure was also considered in feature selection. There are very few homes with pools. Any machine learning algorithm will have trouble learning much from those datapoints. Hence, such a feature is not included. Another example is the feature 'street', which is almost exclusively 'pave' with very few 'gravel' entries.\n",
    "\n",
    "## Categorical data\n",
    "- Use one-hot encoding.\n",
    "\n"
   ]
  },
  {
   "cell_type": "code",
   "execution_count": 2,
   "id": "64e8d4af",
   "metadata": {},
   "outputs": [
    {
     "name": "stdout",
     "output_type": "stream",
     "text": [
      "Number of nan in dummies: 0\n"
     ]
    }
   ],
   "source": [
    "#READ DATA AND SELECT FEATURES\n",
    "data = pd.read_csv('./GroupProjectDataSet.csv', header=0, index_col=0)\n",
    "\n",
    "DUMMIES = ['MSSubClass', 'MSZoning', 'LotConfig', 'Neighborhood', 'RoofStyle', 'Exterior1st', 'MoSold', 'SaleCondition', 'BldgType', 'HouseStyle', 'SaleCondition']\n",
    "\n",
    "dummies = pd.get_dummies(data[DUMMIES].astype(str)) #will be used later\n",
    "\n",
    "print('Number of nan in dummies:', data[DUMMIES].isna().sum().sum())"
   ]
  },
  {
   "cell_type": "markdown",
   "id": "b7dcff1b",
   "metadata": {},
   "source": [
    "## Numerical data\n",
    "- Add composite features.\n",
    "- Scale all numericals.\n",
    "- Convert strings to numbers.\n",
    "\n",
    "The code could be written much more elegantly, but as it is written we can see easily what it is doing."
   ]
  },
  {
   "cell_type": "code",
   "execution_count": 3,
   "id": "d29a5ff8",
   "metadata": {},
   "outputs": [
    {
     "name": "stdout",
     "output_type": "stream",
     "text": [
      "number of nan numericals: 0\n"
     ]
    }
   ],
   "source": [
    "#add a composite feature that includes the age of the building when it was sold\n",
    "data['AgeWhenSold'] = data['YrSold'] - data['YearBuilt']\n",
    "#add a composite feature that includes the age of the building since last renovation when it was sold\n",
    "data['AgeSinceRemod'] = data['YrSold'] - data['YearRemodAdd']\n",
    "\n",
    "#scale to numbers to be between 0 and 2\n",
    "#the choice of 2 is more or less arbitrary\n",
    "#we tried 1, 2, 5, and 10. it does not impact model performance at all.\n",
    "high = 2\n",
    "data['GrLivArea'] = data['GrLivArea'] / data['GrLivArea'].max() * high\n",
    "data['TotalBsmtSF'] = data['TotalBsmtSF'] / data['TotalBsmtSF'].max() * high\n",
    "data['LotArea'] = data['LotArea'] / data['LotArea'].max() * high\n",
    "data['AgeWhenSold'] = data['AgeWhenSold'] / data['AgeWhenSold'].max() * high\n",
    "data['AgeSinceRemod'] = data['AgeSinceRemod'] / data['AgeSinceRemod'].max() * high\n",
    "data['2ndFlrSF'] = data['2ndFlrSF'] / data['2ndFlrSF'].max() * high\n",
    "data['BsmtFinSF1'] = data['BsmtFinSF1'] / data['BsmtFinSF1'].max() * high\n",
    "data['OverallQual'] = data['OverallQual'] / data['OverallQual'].max() * high\n",
    "data['OverallCond'] = data['OverallCond'] / data['OverallCond'].max() * high\n",
    "data['BedroomAbvGr'] = data['BedroomAbvGr'] / data['BedroomAbvGr'].max() * high\n",
    "data['GarageCars'] = data['GarageCars'] / data['GarageCars'].max() * high\n",
    "\n",
    "#exterqual is given as strings 'Ex', 'TA' etc. we want to convert that to a number,\n",
    "#because excellent is always better than average\n",
    "#NOTE: this could be solved more elegantly since 'Ex', 'Gd' etc. are the same across the entire dataset, \n",
    "#one could replace them globally instead of for each column separately.\n",
    "data['ExterQual'] = data['ExterQual'].replace('Ex', 5) \n",
    "data['ExterQual'] = data['ExterQual'].replace('Gd', 4) \n",
    "data['ExterQual'] = data['ExterQual'].replace('TA', 3) \n",
    "data['ExterQual'] = data['ExterQual'].replace('Fa', 2) \n",
    "data['ExterQual'] = data['ExterQual'].replace('Po', 1) \n",
    "data['ExterQual'] = data['ExterQual'] / data['ExterQual'].max() * high\n",
    "#same for extercond\n",
    "data['ExterCond'] = data['ExterCond'].replace('Ex', 5) \n",
    "data['ExterCond'] = data['ExterCond'].replace('Gd', 4) \n",
    "data['ExterCond'] = data['ExterCond'].replace('TA', 3) \n",
    "data['ExterCond'] = data['ExterCond'].replace('Fa', 2) \n",
    "data['ExterCond'] = data['ExterCond'].replace('Po', 1) \n",
    "data['ExterCond'] = data['ExterCond'] / data['ExterCond'].max() * high\n",
    "#and bsmtqual\n",
    "data['BsmtQual'] = data['BsmtQual'].fillna('NoBasement') #nan does not mean no value here\n",
    "data['BsmtQual'] = data['BsmtQual'].replace('Ex', 5) \n",
    "data['BsmtQual'] = data['BsmtQual'].replace('Gd', 4) \n",
    "data['BsmtQual'] = data['BsmtQual'].replace('TA', 3) \n",
    "data['BsmtQual'] = data['BsmtQual'].replace('Fa', 2) \n",
    "data['BsmtQual'] = data['BsmtQual'].replace('Po', 1) \n",
    "data['BsmtQual'] = data['BsmtQual'].replace('NoBasement', 0) \n",
    "data['BsmtQual'] = data['BsmtQual'] / data['BsmtQual'].max() * high\n",
    "#and heatingQC\n",
    "data['HeatingQC'] = data['HeatingQC'].replace('Ex', 5) \n",
    "data['HeatingQC'] = data['HeatingQC'].replace('Gd', 4) \n",
    "data['HeatingQC'] = data['HeatingQC'].replace('TA', 3) \n",
    "data['HeatingQC'] = data['HeatingQC'].replace('Fa', 2) \n",
    "data['HeatingQC'] = data['HeatingQC'].replace('Po', 1) \n",
    "data['HeatingQC'] = data['HeatingQC'] / data['HeatingQC'].max() * high\n",
    "#and kitchenqual\n",
    "data['KitchenQual'] = data['KitchenQual'].replace('Ex', 5) \n",
    "data['KitchenQual'] = data['KitchenQual'].replace('Gd', 4) \n",
    "data['KitchenQual'] = data['KitchenQual'].replace('TA', 3) \n",
    "data['KitchenQual'] = data['KitchenQual'].replace('Fa', 2) \n",
    "data['KitchenQual'] = data['KitchenQual'].replace('Po', 1) \n",
    "data['KitchenQual'] = data['KitchenQual'] / data['KitchenQual'].max() * high\n",
    "#and fireplacequ\n",
    "data['FireplaceQu'] = data['FireplaceQu'].fillna('NoFirePlace') #nan does not mean no value here\n",
    "data['FireplaceQu'] = data['FireplaceQu'].replace('Ex', 5) \n",
    "data['FireplaceQu'] = data['FireplaceQu'].replace('Gd', 4) \n",
    "data['FireplaceQu'] = data['FireplaceQu'].replace('TA', 3) \n",
    "data['FireplaceQu'] = data['FireplaceQu'].replace('Fa', 2) \n",
    "data['FireplaceQu'] = data['FireplaceQu'].replace('Po', 1) \n",
    "data['FireplaceQu'] = data['FireplaceQu'].replace('NoFirePlace', 0) \n",
    "data['FireplaceQu'] = data['FireplaceQu'] / data['FireplaceQu'].max() * high\n",
    "\n",
    "\n",
    "NUMERICALS =  ['2ndFlrSF', 'BsmtFinSF1', 'LotArea', 'OverallQual', 'OverallCond', 'GrLivArea', 'BedroomAbvGr', 'TotalBsmtSF', 'GarageCars', 'AgeWhenSold', 'AgeSinceRemod', 'ExterQual', 'ExterCond', 'BsmtQual', 'KitchenQual', 'FireplaceQu', 'HeatingQC']\n",
    "numericals = data[NUMERICALS]\n",
    "\n",
    "print('number of nan numericals:', data[NUMERICALS].isna().sum().sum())"
   ]
  },
  {
   "cell_type": "markdown",
   "id": "f77e431e",
   "metadata": {},
   "source": [
    "## EXPERIMENT: Fuse Classes 4 and 5\n",
    "This improves testing accuracy. A possible reason might be that there is not enough class 5 data to train the model. Classes have a lot of inbalance.\n",
    "It is important to note that the classification accuracy on class 5 is Zero when we do it like this. We would have to correct the testing score for that fact.<br>\n",
    "\n",
    "We found it to not be worth it in the end. The code is still here and can be uncommented to experiment."
   ]
  },
  {
   "cell_type": "code",
   "execution_count": 4,
   "id": "b281eb1e",
   "metadata": {},
   "outputs": [],
   "source": [
    "n_classes = 5\n",
    "#UNCOMMENT THE NEXT 2 LINES TO EXPERIMENT\n",
    "#data['Class'] = data['Class'].replace(4,3) #we start counting at 0, hence replace entries 4 with 3.\n",
    "#n_classes = 4"
   ]
  },
  {
   "cell_type": "markdown",
   "id": "6fa4be64",
   "metadata": {},
   "source": [
    "# Data Balancing\n",
    "\n",
    "It is important to realise that we must only balance the training data! When we balance the entire dataset, the models will score highly because of duplicate entries (when doing oversampling). Also, we want the testing data to be realistic, it should be structured like real-world data. When we do balancing we destroy some of that natural structure, possibly skewing our testing results."
   ]
  },
  {
   "cell_type": "code",
   "execution_count": 5,
   "id": "31d37c7b",
   "metadata": {},
   "outputs": [
    {
     "name": "stdout",
     "output_type": "stream",
     "text": [
      "Number of nan total: 0\n"
     ]
    }
   ],
   "source": [
    "#FUSE DATASETS\n",
    "cleaned_dataset = pd.concat([numericals, dummies, data['Class']], axis=1)\n",
    "\n",
    "#WRITE TO CSV TO LOOK AT IT IN A CONVENIENT WAY\n",
    "cleaned_dataset.to_csv('./cleanedDataset.csv')\n",
    "\n",
    "#COUNT NAN\n",
    "print('Number of nan total:', cleaned_dataset.isna().sum().sum())\n",
    "#conveniently there are no nans!"
   ]
  },
  {
   "cell_type": "code",
   "execution_count": 6,
   "id": "75428ad3",
   "metadata": {},
   "outputs": [
    {
     "name": "stdout",
     "output_type": "stream",
     "text": [
      "\n",
      "class 0: 123\n",
      "class 1: 910\n",
      "class 2: 312\n",
      "class 3: 87\n",
      "class 4: 28\n"
     ]
    }
   ],
   "source": [
    "#COUNT THE NUMBER OF DATAPOINTS FOR EACH CLASS\n",
    "print('')\n",
    "class_counts = []\n",
    "for i in range(5):\n",
    "    count = np.sum(cleaned_dataset['Class'] == i)\n",
    "    print(f'class {i}:', count)\n",
    "    class_counts.append(count)"
   ]
  },
  {
   "cell_type": "markdown",
   "id": "f9813959",
   "metadata": {},
   "source": [
    "## Shuffling and splitting the data\n",
    "Model performance varies a lot depending on the seed for the data splitting. This shows that our dataset may be too small. We have tried some random seeds below. A seed of 4 results in poor testing accuracy, while a seed of 67 results in good testing accuracy. And it makes huge difference, the testing accuracy can vary by up to 8 or 9 percentage points depending on the seed alone!<br>\n",
    "Data shuffling can literally cause one model to perform better than another. Most of the time boosted forests outperform everything else, but sometimes plain random forests are better because the seed favors that model.\n",
    "\n",
    "### Why shuffle the data?\n",
    "- Get rid of any structure or ordering the dataset may have. \n",
    "- Choose training and testing data randomly."
   ]
  },
  {
   "cell_type": "code",
   "execution_count": 7,
   "id": "c8e2ea51",
   "metadata": {},
   "outputs": [
    {
     "name": "stdout",
     "output_type": "stream",
     "text": [
      "Number of features: 124\n",
      "Number of Datapoints: 1460\n",
      "Number of Labels: 1460\n",
      "\n",
      "Train set size: 1021\n",
      "Val set size: 146\n",
      "Test set size: 293\n"
     ]
    }
   ],
   "source": [
    "#RENAME DATA AND SPLIT DATA\n",
    "data = cleaned_dataset\n",
    "\n",
    "X = data.iloc[:, :-2].to_numpy()\n",
    "y = data.iloc[:, -1].to_numpy()\n",
    "\n",
    "print('Number of features:', X.shape[1])\n",
    "print('Number of Datapoints:', X.shape[0])\n",
    "print('Number of Labels:', y.shape[0])\n",
    "\n",
    "\n",
    "#SET SEED\n",
    "#np.random.seed(4) #BAD MODEL PERFORMANCE (best, 0.816, random forest)\n",
    "np.random.seed(67) #GOOD MODEL PERFORMANCE (best 0.887, gradient boost)\n",
    "\n",
    "#SHUFFLE DATA\n",
    "#we CAN do this beacause we are not dealing with time series.\n",
    "#has a huge impact on model performance\n",
    "permutation = np.random.permutation(X.shape[0])\n",
    "X_shuffled = X[permutation]\n",
    "y_shuffled = y[permutation]\n",
    "\n",
    "#SPLIT DATA\n",
    "#use 70% for training, 10% of data for validation, and 20% for testing\n",
    "#validation data is only used for the neural network\n",
    "num_train_samples = int(0.7 * X.shape[0])\n",
    "num_val_samples = int(0.10 * X.shape[0])\n",
    "X_train = X_shuffled[:num_train_samples]\n",
    "y_train = y_shuffled[:num_train_samples]\n",
    "X_val = X_shuffled[num_train_samples:num_train_samples + num_val_samples]\n",
    "y_val = y_shuffled[num_train_samples:num_train_samples + num_val_samples]\n",
    "X_test = X_shuffled[num_train_samples + num_val_samples:]\n",
    "y_test = y_shuffled[num_train_samples + num_val_samples:]\n",
    "\n",
    "print(\"\")\n",
    "print('Train set size:', X_train.shape[0])\n",
    "print('Val set size:', X_val.shape[0])\n",
    "print('Test set size:', X_test.shape[0])\n"
   ]
  },
  {
   "cell_type": "markdown",
   "id": "e67bf663",
   "metadata": {},
   "source": [
    "\n",
    "## Tomek Links\n",
    "The idea behind Tomek Links is to remove some Datapoints that are very close to each other, but of different classes. This way we make it easier for a classification algorithm to draw a boundary.\n",
    "- Accuracy gain is limited, but free.\n",
    "- Implementation is also easy.\n",
    "- It also seems to balance the data slightly. \n"
   ]
  },
  {
   "cell_type": "code",
   "execution_count": 8,
   "id": "7aa3598e",
   "metadata": {},
   "outputs": [
    {
     "name": "stdout",
     "output_type": "stream",
     "text": [
      "Counter({1.0: 634, 2.0: 214, 0.0: 91, 3.0: 62, 4.0: 20})\n",
      "old X shape: (1021, 124)\n",
      "old y shape: (1021,)\n",
      "\n",
      "Counter({1.0: 586, 2.0: 168, 0.0: 74, 3.0: 48, 4.0: 20})\n",
      "new X shape: (896, 124)\n",
      "new y shape: (896,)\n"
     ]
    }
   ],
   "source": [
    "print(Counter(y_train))\n",
    "print('old X shape:', X_train.shape)\n",
    "print('old y shape:', y_train.shape)\n",
    "\n",
    "TL = TomekLinks()\n",
    "X_train, y_train = TL.fit_resample(X_train, y_train)\n",
    "\n",
    "print(\"\")\n",
    "print(Counter(y_train))\n",
    "print('new X shape:', X_train.shape)\n",
    "print('new y shape:', y_train.shape)"
   ]
  },
  {
   "cell_type": "markdown",
   "id": "1c64af28",
   "metadata": {},
   "source": [
    "## NEURAL NET\n",
    "\n",
    "- Depending on random shuffling and network initialization the algorithm may take only 20 or all 100 epochs to train.\n",
    "- NOTE: There will usually be some Tensorflow warnings about GPU / CUDA usage. They can be ignored. It will default to CPU usage instead, which is fine for such a small network.\n",
    "\n",
    "\n",
    "### Idea\n",
    "\n",
    "Neural Nets are a brute-force approach to machine learning. They will fit any data. They are so powerful that they will literally learn the training data by heart when the network is large enough. To keep things quick and simple we continue with a very simplified explanation of how a Neural Net works:\n",
    "1. Neural Nets (NNs) are made up of many layers of neurons. \n",
    "2. Each neuron is usually connected to every neuron of the previous layer.\n",
    "3. Every connection has a weight associated with it. \n",
    "4. The output of one neuron is essentially the weighted sum of inputs from neurons in the previous layer with an activation function applied to that sum.\n",
    "5. We then calculate a metric of 'loss' on the output. An easy example is MSE, but other loss functions exist. A high loss means the network does a bad job. \n",
    "6. To train the network we approximate the gradient of the entire network and adjust all the weights in order to reduce the loss function as much as possible.\n",
    "7. Repeat steps 5 and 6 until the network fails to improve any further.\n",
    "\n",
    "The goal is to achieve overfit, then use regularization techniques like early stopping or dropout layers to reduce that  overfit. Often it can be challenging to get the network to learn anything. But in our case it learned easily.\n",
    "\n",
    "### Architecture\n",
    "\n",
    "We used three layers of fully connected neurons. The activation function is 'LeakyReLU', it is a variation of standard ReLU. LeakyReLU prevents the model from getting 'stuck' while learning because the gradient will (practically) never be Zero.<br>\n",
    "More info on activation functions here: https://en.wikipedia.org/wiki/Activation_function<br>\n",
    "\n",
    "- The number of neurons and the number of layers does not seem to make a big difference. We tried 5 layers of 100 neurons each and 3 layers of 10 (and some values in between), with little difference in performance. <br>\n",
    "\n",
    "- We use a dropout layer to help reduce overfitting. A dropout layer randomly 'mutes' some neuron's outputs each iteration.<br>\n",
    "\n",
    "- In the output layer we used a softmax activation function. This is common practice for classification problems. An alternative is to use a sigmoid function. <br>\n",
    "\n",
    "- Overall, the network proved to be rather insensitive to architecture decisions. A network full of sigmoid functions in all layers performs similarly.\n",
    "\n",
    "\n",
    "### Hyperparams\n",
    "\n",
    "We did not conduct a structured search for hyperparams. We used trial and error by hand until we got something that works okay. Hyperparameter optimization for NNs takes a very long time because\n",
    "1. NNs have *many* parameters that can be tweaked (number of layers, activation functions in each layer, optimizer, loss functions etc.)\n",
    "2. Training NNs takes relatively long.\n",
    "\n",
    "#### Optimizer\n",
    "\n",
    "We tried Adam and Stochastic Gradient Descent (SGD). Adam is a modified SGD algorithm that includes some momentum. It tends to converge faster and more consistently than SGD\n",
    "\n",
    "#### Loss Function\n",
    "\n",
    "Categorical Crossentropy is a standard choice for classification problems.\n",
    "\n",
    "### Early Stopping\n",
    "\n",
    "We make use of early stopping to prevent overfit. We stop training when the algorithm fails to improve the accuracy on the validation data 4 epochs in a row. The weights are then restored automatically to the best previous state.\n",
    "\n",
    "\n",
    "### Why is it worse than random forests?\n",
    "\n",
    "We are confident that the underperformance of the NN compared to random forests is caused by a small dataset. NNs are usually trained with 10s of thousands of examples (at least). NNs may not be the best tool for this particular task.\n",
    "\n",
    "\n",
    "\n",
    "### Resources:\n",
    "http://neuralnetworksanddeeplearning.com/ (online book, available for free, an introduction)<br>\n",
    "Book recommendation: Deep Learning with Python by Francois Chollet"
   ]
  },
  {
   "cell_type": "code",
   "execution_count": 9,
   "id": "37be2c12",
   "metadata": {},
   "outputs": [
    {
     "name": "stdout",
     "output_type": "stream",
     "text": [
      "Epoch 1/100\n"
     ]
    },
    {
     "name": "stderr",
     "output_type": "stream",
     "text": [
      "2023-03-29 14:54:21.641808: I tensorflow/compiler/xla/stream_executor/cuda/cuda_gpu_executor.cc:981] successful NUMA node read from SysFS had negative value (-1), but there must be at least one NUMA node, so returning NUMA node zero\n",
      "2023-03-29 14:54:21.641977: W tensorflow/compiler/xla/stream_executor/platform/default/dso_loader.cc:64] Could not load dynamic library 'libcudart.so.11.0'; dlerror: libcudart.so.11.0: cannot open shared object file: No such file or directory\n",
      "2023-03-29 14:54:21.642028: W tensorflow/compiler/xla/stream_executor/platform/default/dso_loader.cc:64] Could not load dynamic library 'libcublas.so.11'; dlerror: libcublas.so.11: cannot open shared object file: No such file or directory\n",
      "2023-03-29 14:54:21.642071: W tensorflow/compiler/xla/stream_executor/platform/default/dso_loader.cc:64] Could not load dynamic library 'libcublasLt.so.11'; dlerror: libcublasLt.so.11: cannot open shared object file: No such file or directory\n",
      "2023-03-29 14:54:21.642113: W tensorflow/compiler/xla/stream_executor/platform/default/dso_loader.cc:64] Could not load dynamic library 'libcufft.so.10'; dlerror: libcufft.so.10: cannot open shared object file: No such file or directory\n",
      "2023-03-29 14:54:21.642155: W tensorflow/compiler/xla/stream_executor/platform/default/dso_loader.cc:64] Could not load dynamic library 'libcurand.so.10'; dlerror: libcurand.so.10: cannot open shared object file: No such file or directory\n",
      "2023-03-29 14:54:21.642197: W tensorflow/compiler/xla/stream_executor/platform/default/dso_loader.cc:64] Could not load dynamic library 'libcusolver.so.11'; dlerror: libcusolver.so.11: cannot open shared object file: No such file or directory\n",
      "2023-03-29 14:54:21.642238: W tensorflow/compiler/xla/stream_executor/platform/default/dso_loader.cc:64] Could not load dynamic library 'libcusparse.so.11'; dlerror: libcusparse.so.11: cannot open shared object file: No such file or directory\n",
      "2023-03-29 14:54:21.642280: W tensorflow/compiler/xla/stream_executor/platform/default/dso_loader.cc:64] Could not load dynamic library 'libcudnn.so.8'; dlerror: libcudnn.so.8: cannot open shared object file: No such file or directory\n",
      "2023-03-29 14:54:21.642286: W tensorflow/core/common_runtime/gpu/gpu_device.cc:1934] Cannot dlopen some GPU libraries. Please make sure the missing libraries mentioned above are installed properly if you would like to use GPU. Follow the guide at https://www.tensorflow.org/install/gpu for how to download and setup the required libraries for your platform.\n",
      "Skipping registering GPU devices...\n",
      "2023-03-29 14:54:21.642607: I tensorflow/core/platform/cpu_feature_guard.cc:193] This TensorFlow binary is optimized with oneAPI Deep Neural Network Library (oneDNN) to use the following CPU instructions in performance-critical operations:  AVX2 FMA\n",
      "To enable them in other operations, rebuild TensorFlow with the appropriate compiler flags.\n"
     ]
    },
    {
     "name": "stdout",
     "output_type": "stream",
     "text": [
      "896/896 [==============================] - 2s 1ms/step - loss: 1.3342 - accuracy: 0.4877 - val_loss: 1.1558 - val_accuracy: 0.5822\n",
      "Epoch 2/100\n",
      "896/896 [==============================] - 1s 1ms/step - loss: 1.1141 - accuracy: 0.6295 - val_loss: 1.0882 - val_accuracy: 0.5822\n",
      "Epoch 3/100\n",
      "896/896 [==============================] - 1s 2ms/step - loss: 1.0158 - accuracy: 0.6429 - val_loss: 1.0192 - val_accuracy: 0.5822\n",
      "Epoch 4/100\n",
      "896/896 [==============================] - 1s 1ms/step - loss: 0.9327 - accuracy: 0.6730 - val_loss: 0.9367 - val_accuracy: 0.6301\n",
      "Epoch 5/100\n",
      "896/896 [==============================] - 1s 1ms/step - loss: 0.8665 - accuracy: 0.6908 - val_loss: 0.8813 - val_accuracy: 0.6507\n",
      "Epoch 6/100\n",
      "896/896 [==============================] - 1s 2ms/step - loss: 0.8107 - accuracy: 0.7042 - val_loss: 0.8219 - val_accuracy: 0.6644\n",
      "Epoch 7/100\n",
      "896/896 [==============================] - 1s 1ms/step - loss: 0.7689 - accuracy: 0.7210 - val_loss: 0.7855 - val_accuracy: 0.6644\n",
      "Epoch 8/100\n",
      "896/896 [==============================] - 1s 1ms/step - loss: 0.7424 - accuracy: 0.7310 - val_loss: 0.7520 - val_accuracy: 0.6781\n",
      "Epoch 9/100\n",
      "896/896 [==============================] - 1s 1ms/step - loss: 0.7100 - accuracy: 0.7377 - val_loss: 0.7360 - val_accuracy: 0.6712\n",
      "Epoch 10/100\n",
      "896/896 [==============================] - 1s 1ms/step - loss: 0.6802 - accuracy: 0.7478 - val_loss: 0.6930 - val_accuracy: 0.6849\n",
      "Epoch 11/100\n",
      "896/896 [==============================] - 1s 1ms/step - loss: 0.6337 - accuracy: 0.7701 - val_loss: 0.6939 - val_accuracy: 0.6781\n",
      "Epoch 12/100\n",
      "896/896 [==============================] - 1s 1ms/step - loss: 0.6106 - accuracy: 0.7679 - val_loss: 0.6665 - val_accuracy: 0.6849\n",
      "Epoch 13/100\n",
      "896/896 [==============================] - 1s 1ms/step - loss: 0.5932 - accuracy: 0.7812 - val_loss: 0.6519 - val_accuracy: 0.6918\n",
      "Epoch 14/100\n",
      "896/896 [==============================] - 1s 1ms/step - loss: 0.5589 - accuracy: 0.7801 - val_loss: 0.6382 - val_accuracy: 0.7123\n",
      "Epoch 15/100\n",
      "896/896 [==============================] - 1s 1ms/step - loss: 0.5494 - accuracy: 0.8025 - val_loss: 0.6187 - val_accuracy: 0.7397\n",
      "Epoch 16/100\n",
      "896/896 [==============================] - 1s 1ms/step - loss: 0.5182 - accuracy: 0.7924 - val_loss: 0.6590 - val_accuracy: 0.7192\n",
      "Epoch 17/100\n",
      "896/896 [==============================] - 1s 970us/step - loss: 0.5292 - accuracy: 0.7868 - val_loss: 0.6336 - val_accuracy: 0.7192\n",
      "Epoch 18/100\n",
      "896/896 [==============================] - 1s 760us/step - loss: 0.5181 - accuracy: 0.8125 - val_loss: 0.6367 - val_accuracy: 0.7055\n",
      "Epoch 19/100\n",
      "896/896 [==============================] - 1s 958us/step - loss: 0.4625 - accuracy: 0.8248 - val_loss: 0.6315 - val_accuracy: 0.7603\n",
      "Model: \"sequential\"\n",
      "_________________________________________________________________\n",
      " Layer (type)                Output Shape              Param #   \n",
      "=================================================================\n",
      " dense (Dense)               (1, 32)                   4000      \n",
      "                                                                 \n",
      " leaky_re_lu (LeakyReLU)     (1, 32)                   0         \n",
      "                                                                 \n",
      " dense_1 (Dense)             (1, 32)                   1056      \n",
      "                                                                 \n",
      " leaky_re_lu_1 (LeakyReLU)   (1, 32)                   0         \n",
      "                                                                 \n",
      " dense_2 (Dense)             (1, 32)                   1056      \n",
      "                                                                 \n",
      " leaky_re_lu_2 (LeakyReLU)   (1, 32)                   0         \n",
      "                                                                 \n",
      " dropout (Dropout)           (1, 32)                   0         \n",
      "                                                                 \n",
      " dense_3 (Dense)             (1, 5)                    165       \n",
      "                                                                 \n",
      "=================================================================\n",
      "Total params: 6,277\n",
      "Trainable params: 6,277\n",
      "Non-trainable params: 0\n",
      "_________________________________________________________________\n"
     ]
    }
   ],
   "source": [
    "#SPECIFIY ARCHITECTURE\n",
    "model = keras.Sequential([\n",
    "    layers.Dense(32), #dense means fully connected\n",
    "    layers.LeakyReLU(),\n",
    "    layers.Dense(32),\n",
    "    layers.LeakyReLU(),\n",
    "    layers.Dense(32),\n",
    "    layers.LeakyReLU(),\n",
    "    layers.Dropout(0.5),\n",
    "    layers.Dense(n_classes, activation=\"softmax\")]) #softmax output layer\n",
    "\n",
    "#COMPILE MODEL\n",
    "model.compile(optimizer=keras.optimizers.Adam(learning_rate=0.0001), #specify backpropagation algorithm\n",
    "              loss=\"sparse_categorical_crossentropy\", #specify loss function, sparse because we only provide the correct answer 0, 1, 2,... in the labels, not the whole vector.\n",
    "              metrics=[\"accuracy\"])\n",
    "\n",
    "\n",
    "#TRAIN MODEL\n",
    "callback = keras.callbacks.EarlyStopping(monitor='val_loss', patience=4)\n",
    "history = model.fit(X_train, y_train,\n",
    "                    epochs=100,\n",
    "                    batch_size=1,\n",
    "                    validation_data=(X_val, y_val),\n",
    "                    callbacks=[callback])\n",
    "\n",
    "model.summary()"
   ]
  },
  {
   "cell_type": "code",
   "execution_count": 21,
   "id": "80c79bff",
   "metadata": {},
   "outputs": [
    {
     "data": {
      "image/png": "[encoded data removed]",
      "text/plain": [
       "<Figure size 1200x600 with 2 Axes>"
      ]
     },
     "metadata": {},
     "output_type": "display_data"
    },
    {
     "name": "stdout",
     "output_type": "stream",
     "text": [
      "10/10 [==============================] - 0s 787us/step - loss: 0.5282 - accuracy: 0.8020\n"
     ]
    }
   ],
   "source": [
    "\n",
    "#DRAW SOME GRAPHS\n",
    "history_dict = history.history #keras (model.fit) automatically generates and returns a dictionary with metrics\n",
    "loss = history_dict[\"loss\"]\n",
    "val_loss = history_dict[\"val_loss\"]\n",
    "acc = history_dict[\"accuracy\"]\n",
    "val_acc = history_dict[\"val_accuracy\"]\n",
    "epochs = range(1, len(loss) + 1)\n",
    "\n",
    "fig = plt.figure(figsize=(12,6))\n",
    "gs = fig.add_gridspec(1,15)\n",
    "ax1 = fig.add_subplot(gs[0:1, 0:7]) #first chart\n",
    "ax2 = fig.add_subplot(gs[0:1, 8:15]) #second chart\n",
    "\n",
    "ax1.plot(epochs, loss, \"b\", label=\"Training loss\")\n",
    "ax1.plot(epochs, val_loss, \"r.\", label=\"Validation loss\")\n",
    "ax2.plot(epochs, acc, \"b\", label=\"Training accuracy\")\n",
    "ax2.plot(epochs, val_acc, \"r.\", label=\"Validation accuracy\")\n",
    "plt.title(\"Training and validation loss\")\n",
    "ax1.set_xlabel(\"Epochs\")\n",
    "ax2.set_xlabel(\"Epochs\")\n",
    "ax1.set_ylabel(\"Loss\")\n",
    "ax2.set_ylabel(\"Accuracy\")\n",
    "ax1.legend()\n",
    "ax2.legend()\n",
    "plt.show()\n",
    "\n",
    "#TEST\n",
    "test_loss, test_acc = model.evaluate(X_test, y_test)"
   ]
  },
  {
   "cell_type": "markdown",
   "id": "1472105c",
   "metadata": {},
   "source": [
    "# DECISION TREES, RANDOM FORESTS, BOOSTING\n",
    "\n",
    "We do not need to explicitly set aside validation data when using gridsearch, it already does crossvalidation for us. Hence we may fuse training and validation data."
   ]
  },
  {
   "cell_type": "code",
   "execution_count": 11,
   "id": "3213bdfa",
   "metadata": {},
   "outputs": [],
   "source": [
    "#FUSE TRAINING AND VALIDATION DATA\n",
    "X_train = X_shuffled[:num_train_samples + num_val_samples]\n",
    "y_train = y_shuffled[:num_train_samples + num_val_samples]"
   ]
  },
  {
   "cell_type": "markdown",
   "id": "ac3e9be2",
   "metadata": {},
   "source": [
    "## DECISION TREES"
   ]
  },
  {
   "cell_type": "code",
   "execution_count": 12,
   "id": "32eb0385",
   "metadata": {},
   "outputs": [
    {
     "name": "stdout",
     "output_type": "stream",
     "text": [
      "DT best CV acc: 0.794\n",
      "DT test acc:    0.816\n",
      "DT best param:  {'trees__criterion': 'gini', 'trees__max_depth': 10}\n"
     ]
    }
   ],
   "source": [
    "#build pipeline\n",
    "trees = DecisionTreeClassifier(random_state=0)\n",
    "pipe_dt = Pipeline([('trees', trees)])\n",
    "\n",
    "param_grid_dt = {'trees__criterion': ['gini', 'entropy'],\n",
    "                'trees__max_depth': [10, 12, 15, 17, 20]}\n",
    "\n",
    "#GRID SEARCH\n",
    "grid_dt = GridSearchCV(pipe_dt, param_grid=param_grid_dt, cv=5, n_jobs=-1)\n",
    "grid_dt.fit(X_train, y_train)"
   ]
  },
  {
   "cell_type": "markdown",
   "id": "4b00d8c0",
   "metadata": {},
   "source": [
    "## RANDOM FOREST\n",
    "Using balanced weights usually does worse\n",
    "*We usually achieve a testing accuracy of 0.81 to 0.86*, depending on the random shuffling and splitting of test and training data."
   ]
  },
  {
   "cell_type": "code",
   "execution_count": 13,
   "id": "bc1877d3",
   "metadata": {},
   "outputs": [
    {
     "name": "stdout",
     "output_type": "stream",
     "text": [
      "RF best CV acc: 0.829\n",
      "RF test acc:    0.881\n",
      "RF best param:  {'forest__max_depth': 20, 'forest__n_estimators': 400}\n"
     ]
    }
   ],
   "source": [
    "#build pipeline\n",
    "#class_weight='balanced_subsample', \n",
    "forest = RandomForestClassifier(random_state=0)\n",
    "#forest = RandomForestClassifier(class_weight='balanced', random_state=0) #with balanced weights\n",
    "pipe_rf = Pipeline([('forest', forest)]) \n",
    "\n",
    "param_grid_rf = {#'forest__criterion': ['gini', 'entropy', 'log_loss'],\n",
    "    #'forest__min_samples_split': [2, 4, 6],\n",
    "    #'forest__min_samples_leaf': [1, 2, 3, 4],\n",
    "    #'forest__max_features': ['sqrt', 'log2'],\n",
    "    'forest__max_depth': [10, 20, 30],\n",
    "    'forest__n_estimators': [200, 300, 400, 500]}\n",
    "\n",
    "#GRID SEARCH\n",
    "grid_rf = GridSearchCV(pipe_rf, param_grid=param_grid_rf, cv=5, n_jobs=-1)\n",
    "grid_rf.fit(X_train, y_train)"
   ]
  },
  {
   "cell_type": "markdown",
   "id": "e4c1c2bb",
   "metadata": {},
   "source": [
    "## BOOSTED FORESTS\n",
    "\n",
    "We tried three different boosting algorithms, all are just as good as plain random forest for this specific classification problem. Sometimes they outperform, depending on the random data shuffling. Overall we get similar performance to plain random forests. <br>\n",
    "*We usually reach testing accuracies between 0.81 and 0.89.*\n",
    "\n",
    "### The idea behind these boosting algorithms, _very_ quickly\n",
    "\n",
    "'Boosting' essentially means combining small decision trees that each try to correct the errors of the previous one. For this purpose we compute a loss-function of one tree, compute or approximate its derivative (gradient), and then forge the next tree in such a way that the loss decreases as much as possible.\n",
    "\n",
    "#### AdaBoost\n",
    "- Trees have less depth, usually only 1 level.\n",
    "- In random forests all trees have equal weight for the final classification, in adaboost some trees have more say than others.\n",
    "- In random forests each tree is made independently from the others, in adaboost each tree takes into account the errors of the previous tree.\n",
    "\n",
    "#### Gradient Boost\n",
    "- Like AdaBoost, each tree is based on the errors the previous tree made.\n",
    "- Trees usually have a low depth of around 5 or less, but more is possible too.\n",
    "\n",
    "\n",
    "### Resources:\n",
    "https://www.youtube.com/watch?v=LsK-xG1cLYA (adaboost)<br>\n",
    "https://www.youtube.com/watch?v=TyvYZ26alZs (gradient boost, boosting)"
   ]
  },
  {
   "cell_type": "code",
   "execution_count": 14,
   "id": "2dc4c7f8",
   "metadata": {},
   "outputs": [
    {
     "name": "stdout",
     "output_type": "stream",
     "text": [
      "ADA best CV acc:  0.822\n",
      "ADA test acc:     0.860\n",
      "ADA best param:   {'boost_ada__learning_rate': 1e-05, 'boost_ada__n_estimators': 1}\n",
      "\n",
      "GB best CV acc:   0.829\n",
      "GB test acc:      0.887\n",
      "GB best param:    {'boost_gb__learning_rate': 0.1, 'boost_gb__max_depth': 2, 'boost_gb__n_estimators': 50}\n"
     ]
    }
   ],
   "source": [
    "\n",
    "#build pipeline\n",
    "boost_ada = AdaBoostClassifier(estimator=forest, random_state=0)\n",
    "boost_gb = GradientBoostingClassifier(init=forest, random_state=0)\n",
    "pipe_ada = Pipeline([('boost_ada', boost_ada)])\n",
    "pipe_gb = Pipeline([('boost_gb', boost_gb)]) \n",
    "\n",
    "param_grid_ada = {'boost_ada__n_estimators': [1, 2, 3],\n",
    "                  'boost_ada__learning_rate': [0.00001, 0.0001, 0.001]}\n",
    "\n",
    "param_grid_gb = {'boost_gb__n_estimators': [10, 20, 50, 100],\n",
    "                'boost_gb__max_depth': [2, 4, 8],\n",
    "                 'boost_gb__learning_rate': [0.001, 0.01, 0.1]}\n",
    "\n",
    "#GRID SEARCH\n",
    "grid_ada = GridSearchCV(pipe_ada, param_grid=param_grid_ada, cv=5, n_jobs=-1)\n",
    "grid_ada.fit(X_train, y_train)\n",
    "grid_gb = GridSearchCV(pipe_gb, param_grid=param_grid_gb, cv=5, n_jobs=-1)\n",
    "grid_gb.fit(X_train, y_train)"
   ]
  },
  {
   "cell_type": "markdown",
   "id": "83d69c52",
   "metadata": {},
   "source": [
    "### FEATURE IMPORTANCE"
   ]
  },
  {
   "cell_type": "code",
   "execution_count": 15,
   "id": "f4fcdc3d",
   "metadata": {},
   "outputs": [
    {
     "name": "stdout",
     "output_type": "stream",
     "text": [
      " 1) GrLivArea 0.1113\n",
      " 2) TotalBsmtSF 0.0909\n",
      " 3) OverallQual 0.0740\n",
      " 4) LotArea 0.0516\n",
      " 5) AgeWhenSold 0.0493\n",
      " 6) BsmtFinSF1 0.0469\n",
      " 7) AgeSinceRemod 0.0418\n",
      " 8) 2ndFlrSF 0.0413\n",
      " 9) ExterQual 0.0385\n",
      "10) KitchenQual 0.0342\n",
      "11) BsmtQual 0.0338\n",
      "12) GarageCars 0.0319\n",
      "13) OverallCond 0.0233\n",
      "14) FireplaceQu 0.0205\n",
      "15) HeatingQC 0.0174\n",
      "16) BedroomAbvGr 0.0164\n",
      "17) MSSubClass_30.0 0.0081\n",
      "18) MSSubClass_60.0 0.0081\n",
      "19) Exterior1st_VinylSd 0.0071\n",
      "20) Neighborhood_NridgHt 0.0070\n",
      "21) HouseStyle_1Story 0.0066\n",
      "22) RoofStyle_Gable 0.0064\n",
      "23) LotConfig_Inside 0.0064\n",
      "24) MSZoning_RL 0.0062\n",
      "25) MoSold_5.0 0.0061\n",
      "26) HouseStyle_2Story 0.0058\n",
      "27) MSSubClass_20.0 0.0055\n",
      "28) RoofStyle_Hip 0.0054\n",
      "29) MoSold_7.0 0.0054\n",
      "30) ExterCond 0.0053\n",
      "31) MSZoning_RM 0.0052\n",
      "32) SaleCondition_Normal 0.0052\n",
      "33) Exterior1st_CemntBd 0.0051\n",
      "34) BldgType_1Fam 0.0049\n",
      "35) LotConfig_Corner 0.0049\n",
      "36) Neighborhood_CollgCr 0.0048\n",
      "37) SaleCondition_Normal 0.0047\n",
      "38) MoSold_6.0 0.0046\n",
      "39) SaleCondition_Partial 0.0043\n",
      "40) MoSold_8.0 0.0043\n",
      "41) Neighborhood_NAmes 0.0042\n",
      "42) Exterior1st_Wd Sdng 0.0042\n",
      "43) Exterior1st_MetalSd 0.0042\n",
      "44) MoSold_4.0 0.0039\n",
      "45) Exterior1st_HdBoard 0.0038\n",
      "46) MoSold_9.0 0.0036\n",
      "47) Neighborhood_Edwards 0.0034\n",
      "48) Neighborhood_Somerst 0.0033\n",
      "49) Neighborhood_NoRidge 0.0032\n",
      "50) Neighborhood_Gilbert 0.0032\n",
      "51) LotConfig_CulDSac 0.0032\n",
      "52) Exterior1st_BrkFace 0.0032\n",
      "53) MoSold_3.0 0.0032\n",
      "54) Neighborhood_Crawfor 0.0032\n",
      "55) MoSold_12.0 0.0031\n",
      "56) SaleCondition_Abnorml 0.0030\n",
      "57) SaleCondition_Abnorml 0.0030\n",
      "58) Neighborhood_OldTown 0.0029\n",
      "59) MoSold_10.0 0.0029\n",
      "60) BldgType_Twnhs 0.0026\n",
      "61) HouseStyle_1.5Fin 0.0026\n",
      "62) Neighborhood_StoneBr 0.0026\n",
      "63) Exterior1st_Plywood 0.0024\n",
      "64) Neighborhood_MeadowV 0.0024\n",
      "65) MSSubClass_160.0 0.0023\n",
      "66) MSSubClass_50.0 0.0022\n",
      "67) Neighborhood_Timber 0.0022\n",
      "68) Neighborhood_IDOTRR 0.0022\n",
      "69) MoSold_11.0 0.0021\n",
      "70) LotConfig_FR2 0.0021\n",
      "71) MoSold_2.0 0.0021\n",
      "72) Neighborhood_SawyerW 0.0020\n",
      "73) MoSold_1.0 0.0020\n",
      "74) Neighborhood_ClearCr 0.0020\n",
      "75) MSZoning_FV 0.0019\n",
      "76) MSSubClass_120.0 0.0018\n",
      "77) RoofStyle_Flat 0.0018\n",
      "78) BldgType_TwnhsE 0.0018\n",
      "79) Neighborhood_NWAmes 0.0017\n",
      "80) Neighborhood_BrkSide 0.0017\n",
      "81) MSSubClass_90.0 0.0016\n",
      "82) MSZoning_C (all) 0.0015\n",
      "83) BldgType_Duplex 0.0012\n",
      "84) MSSubClass_70.0 0.0012\n",
      "85) Exterior1st_Stucco 0.0012\n",
      "86) HouseStyle_SLvl 0.0012\n",
      "87) Exterior1st_WdShing 0.0012\n",
      "88) Exterior1st_AsbShng 0.0011\n",
      "89) MSSubClass_180.0 0.0011\n",
      "90) Neighborhood_Mitchel 0.0011\n",
      "91) Neighborhood_Sawyer 0.0010\n",
      "92) MSSubClass_190.0 0.0009\n",
      "93) BldgType_2fmCon 0.0009\n",
      "94) SaleCondition_Family 0.0009\n",
      "95) MSSubClass_45.0 0.0009\n",
      "96) SaleCondition_Alloca 0.0008\n",
      "97) SaleCondition_Family 0.0008\n",
      "98) RoofStyle_Gambrel 0.0008\n",
      "99) Neighborhood_SWISU 0.0008\n",
      "100) Neighborhood_Veenker 0.0008\n",
      "101) MSSubClass_80.0 0.0008\n",
      "102) MSSubClass_75.0 0.0007\n",
      "103) HouseStyle_1.5Unf 0.0007\n",
      "104) SaleCondition_Alloca 0.0007\n",
      "105) MSSubClass_40.0 0.0006\n",
      "106) Exterior1st_BrkComm 0.0006\n",
      "107) HouseStyle_SFoyer 0.0006\n",
      "108) Neighborhood_BrDale 0.0006\n",
      "109) Neighborhood_Blmngtn 0.0006\n",
      "110) HouseStyle_2.5Unf 0.0005\n",
      "111) RoofStyle_Mansard 0.0004\n",
      "112) HouseStyle_2.5Fin 0.0004\n",
      "113) LotConfig_FR3 0.0003\n",
      "114) MSZoning_RH 0.0003\n",
      "115) SaleCondition_AdjLand 0.0003\n",
      "116) Exterior1st_AsphShn 0.0003\n",
      "117) SaleCondition_AdjLand 0.0002\n",
      "118) MSSubClass_85.0 0.0001\n",
      "119) RoofStyle_Shed 0.0001\n",
      "120) Exterior1st_Stone 0.0001\n",
      "121) Neighborhood_NPkVill 0.0000\n",
      "122) Neighborhood_Blueste 0.0000\n",
      "123) Exterior1st_ImStucc 0.0000\n",
      "124) Exterior1st_CBlock 0.0000\n"
     ]
    }
   ],
   "source": [
    "feat_labels = data.columns[:-1]\n",
    "importances = grid_rf.best_estimator_.named_steps[\"forest\"].feature_importances_\n",
    "\n",
    "indices = np.argsort(importances)[::-1]\n",
    "n = X_train.shape[1]\n",
    "for i in range(n):\n",
    "    print('{0:2d}) {1:7s} {2:6.4f}'.format(i + 1, \n",
    "                                           feat_labels[indices[i]],\n",
    "                                           importances[indices[i]]))"
   ]
  },
  {
   "cell_type": "markdown",
   "id": "93d78693",
   "metadata": {},
   "source": [
    "# MODEL COMPARISON\n",
    "\n",
    "### What we noticed:\n",
    "\n",
    "- When neural net is bad, decision trees are bad. When neural net is good, decision trees are also good.\n",
    "- Random forest somewhere in the middle, mostly on par with boosted forests for this task.\n",
    "- Boosted forests tend the perform best.\n",
    "\n",
    "Confusion matrices look good. *Very little drastic misclassification*. If wrong, then only by one class, either one too high, or one too low. All models perform really well."
   ]
  },
  {
   "cell_type": "code",
   "execution_count": 20,
   "id": "c34d379d",
   "metadata": {},
   "outputs": [
    {
     "name": "stdout",
     "output_type": "stream",
     "text": [
      "10/10 [==============================] - 0s 700us/step\n",
      "\n",
      "----------------------------\n",
      "NEURAL NET:\n",
      " [[  8   7   0   0   0]\n",
      " [  2 174  14   0   1]\n",
      " [  0  16  43   4   0]\n",
      " [  0   1   9   7   1]\n",
      " [  0   0   1   2   3]]\n",
      "\n",
      "NN test loss: 0.528\n",
      "NN test acc: 0.802\n",
      "\n",
      "----------------------------\n",
      "DECISION TREES:\n",
      " [[  9   6   0   0   0]\n",
      " [  9 170  11   0   1]\n",
      " [  0  13  48   2   0]\n",
      " [  0   0   8   9   1]\n",
      " [  0   0   0   3   3]]\n",
      "\n",
      "DT best CV acc: 0.794\n",
      "DT test acc:    0.816\n",
      "DT best param:  {'trees__criterion': 'gini', 'trees__max_depth': 10}\n",
      "\n",
      "----------------------------\n",
      "RANDOM FOREST:\n",
      " [[  8   7   0   0   0]\n",
      " [  0 186   4   0   1]\n",
      " [  0  10  49   4   0]\n",
      " [  0   0   6  12   0]\n",
      " [  0   0   0   3   3]]\n",
      "\n",
      "RF best CV acc: 0.829\n",
      "RF test acc:    0.881\n",
      "RF best param:  {'forest__max_depth': 20, 'forest__n_estimators': 400}\n",
      "\n",
      "----------------------------\n",
      "ADABOOST:\n",
      " [[  7   8   0   0   0]\n",
      " [  0 184   6   0   1]\n",
      " [  0  10  48   5   0]\n",
      " [  0   0   8  10   0]\n",
      " [  0   0   0   3   3]]\n",
      "\n",
      "ADA best CV acc:  0.822\n",
      "ADA test acc:     0.860\n",
      "ADA best param:   {'boost_ada__learning_rate': 1e-05, 'boost_ada__n_estimators': 1}\n",
      "\n",
      "----------------------------\n",
      "GRADIENT BOOST:\n",
      " [[  8   7   0   0   0]\n",
      " [  1 184   5   0   1]\n",
      " [  0   6  54   3   0]\n",
      " [  0   0   5  11   2]\n",
      " [  0   0   0   3   3]]\n",
      "\n",
      "GB best CV acc:   0.829\n",
      "GB test acc:      0.887\n",
      "GB best param:    {'boost_gb__learning_rate': 0.1, 'boost_gb__max_depth': 2, 'boost_gb__n_estimators': 50}\n"
     ]
    }
   ],
   "source": [
    "#CONFUSION MATRICES\n",
    "y_pred_nn = model.predict(X_test)\n",
    "y_pred_nn = np.argmax(y_pred_nn, axis=1)\n",
    "y_pred_dt = grid_dt.best_estimator_.predict(X_test)\n",
    "y_pred_rf = grid_rf.best_estimator_.predict(X_test)\n",
    "y_pred_ada = grid_ada.best_estimator_.predict(X_test)\n",
    "y_pred_gb = grid_gb.best_estimator_.predict(X_test)\n",
    "\n",
    "print('\\n----------------------------\\nNEURAL NET:\\n', confusion_matrix(y_test, y_pred_nn))\n",
    "print(\"\")\n",
    "print(f\"NN test loss: {round(test_loss,3)}\")\n",
    "print(f\"NN test acc: {round(test_acc,3)}\")\n",
    "\n",
    "print('\\n----------------------------\\nDECISION TREES:\\n', confusion_matrix(y_test, y_pred_dt))\n",
    "print(\"\")\n",
    "print('DT best CV acc: {:.3f}'.format(grid_dt.best_score_))\n",
    "print('DT test acc:    {:.3f}'.format(grid_dt.score(X_test, y_test)))\n",
    "print('DT best param:  {}'.format(grid_dt.best_params_))\n",
    "\n",
    "print('\\n----------------------------\\nRANDOM FOREST:\\n', confusion_matrix(y_test, y_pred_rf))\n",
    "print(\"\")\n",
    "print('RF best CV acc: {:.3f}'.format(grid_rf.best_score_))\n",
    "print('RF test acc:    {:.3f}'.format(grid_rf.score(X_test, y_test)))\n",
    "print('RF best param:  {}'.format(grid_rf.best_params_))\n",
    "\n",
    "print('\\n----------------------------\\nADABOOST:\\n', confusion_matrix(y_test, y_pred_ada))\n",
    "print(\"\")\n",
    "print('ADA best CV acc:  {:.3f}'.format(grid_ada.best_score_))\n",
    "print('ADA test acc:     {:.3f}'.format(grid_ada.score(X_test, y_test)))\n",
    "print('ADA best param:   {}'.format(grid_ada.best_params_))\n",
    "\n",
    "print('\\n----------------------------\\nGRADIENT BOOST:\\n', confusion_matrix(y_test, y_pred_gb))\n",
    "print(\"\")\n",
    "print('GB best CV acc:   {:.3f}'.format(grid_gb.best_score_))\n",
    "print('GB test acc:      {:.3f}'.format(grid_gb.score(X_test, y_test)))\n",
    "print('GB best param:    {}'.format(grid_gb.best_params_))"
   ]
  }
 ],
 "metadata": {
  "kernelspec": {
   "display_name": "Python 3 (ipykernel)",
   "language": "python",
   "name": "python3"
  },
  "language_info": {
   "codemirror_mode": {
    "name": "ipython",
    "version": 3
   },
   "file_extension": ".py",
   "mimetype": "text/x-python",
   "name": "python",
   "nbconvert_exporter": "python",
   "pygments_lexer": "ipython3",
   "version": "3.10.6"
  }
 },
 "nbformat": 4,
 "nbformat_minor": 5
}
